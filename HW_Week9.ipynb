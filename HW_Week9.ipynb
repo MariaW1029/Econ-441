{
  "nbformat": 4,
  "nbformat_minor": 0,
  "metadata": {
    "colab": {
      "provenance": []
    },
    "kernelspec": {
      "name": "python3",
      "display_name": "Python 3"
    },
    "language_info": {
      "name": "python"
    }
  },
  "cells": [
    {
      "cell_type": "markdown",
      "source": [
        "# 0.) Import and Clean data"
      ],
      "metadata": {
        "id": "7ywSRtNI4s5h"
      }
    },
    {
      "cell_type": "code",
      "execution_count": 1,
      "metadata": {
        "id": "nsG1QV154GYZ"
      },
      "outputs": [],
      "source": [
        "import pandas as pd\n",
        "from google.colab import drive\n",
        "import matplotlib.pyplot as plt\n",
        "import numpy as np"
      ]
    },
    {
      "cell_type": "code",
      "source": [
        "from sklearn.preprocessing import StandardScaler\n",
        "from sklearn.cluster import KMeans"
      ],
      "metadata": {
        "id": "lFEZb7-YfvAj"
      },
      "execution_count": 2,
      "outputs": []
    },
    {
      "cell_type": "code",
      "source": [
        "df = pd.read_csv(\"Country-data.csv\", sep = \",\")"
      ],
      "metadata": {
        "id": "KJQfo8mz43Kz"
      },
      "execution_count": 3,
      "outputs": []
    },
    {
      "cell_type": "code",
      "source": [
        "df.head()"
      ],
      "metadata": {
        "colab": {
          "base_uri": "https://localhost:8080/",
          "height": 206
        },
        "id": "mKWSRv-q98wE",
        "outputId": "45914a15-855d-4b1b-af28-617845347730"
      },
      "execution_count": 4,
      "outputs": [
        {
          "output_type": "execute_result",
          "data": {
            "text/plain": [
              "               country  child_mort  exports  health  imports  income  \\\n",
              "0          Afghanistan        90.2     10.0    7.58     44.9    1610   \n",
              "1              Albania        16.6     28.0    6.55     48.6    9930   \n",
              "2              Algeria        27.3     38.4    4.17     31.4   12900   \n",
              "3               Angola       119.0     62.3    2.85     42.9    5900   \n",
              "4  Antigua and Barbuda        10.3     45.5    6.03     58.9   19100   \n",
              "\n",
              "   inflation  life_expec  total_fer   gdpp  \n",
              "0       9.44        56.2       5.82    553  \n",
              "1       4.49        76.3       1.65   4090  \n",
              "2      16.10        76.5       2.89   4460  \n",
              "3      22.40        60.1       6.16   3530  \n",
              "4       1.44        76.8       2.13  12200  "
            ],
            "text/html": [
              "\n",
              "  <div id=\"df-b96493ab-3ed2-4e8d-a602-c65fa13e96db\">\n",
              "    <div class=\"colab-df-container\">\n",
              "      <div>\n",
              "<style scoped>\n",
              "    .dataframe tbody tr th:only-of-type {\n",
              "        vertical-align: middle;\n",
              "    }\n",
              "\n",
              "    .dataframe tbody tr th {\n",
              "        vertical-align: top;\n",
              "    }\n",
              "\n",
              "    .dataframe thead th {\n",
              "        text-align: right;\n",
              "    }\n",
              "</style>\n",
              "<table border=\"1\" class=\"dataframe\">\n",
              "  <thead>\n",
              "    <tr style=\"text-align: right;\">\n",
              "      <th></th>\n",
              "      <th>country</th>\n",
              "      <th>child_mort</th>\n",
              "      <th>exports</th>\n",
              "      <th>health</th>\n",
              "      <th>imports</th>\n",
              "      <th>income</th>\n",
              "      <th>inflation</th>\n",
              "      <th>life_expec</th>\n",
              "      <th>total_fer</th>\n",
              "      <th>gdpp</th>\n",
              "    </tr>\n",
              "  </thead>\n",
              "  <tbody>\n",
              "    <tr>\n",
              "      <th>0</th>\n",
              "      <td>Afghanistan</td>\n",
              "      <td>90.2</td>\n",
              "      <td>10.0</td>\n",
              "      <td>7.58</td>\n",
              "      <td>44.9</td>\n",
              "      <td>1610</td>\n",
              "      <td>9.44</td>\n",
              "      <td>56.2</td>\n",
              "      <td>5.82</td>\n",
              "      <td>553</td>\n",
              "    </tr>\n",
              "    <tr>\n",
              "      <th>1</th>\n",
              "      <td>Albania</td>\n",
              "      <td>16.6</td>\n",
              "      <td>28.0</td>\n",
              "      <td>6.55</td>\n",
              "      <td>48.6</td>\n",
              "      <td>9930</td>\n",
              "      <td>4.49</td>\n",
              "      <td>76.3</td>\n",
              "      <td>1.65</td>\n",
              "      <td>4090</td>\n",
              "    </tr>\n",
              "    <tr>\n",
              "      <th>2</th>\n",
              "      <td>Algeria</td>\n",
              "      <td>27.3</td>\n",
              "      <td>38.4</td>\n",
              "      <td>4.17</td>\n",
              "      <td>31.4</td>\n",
              "      <td>12900</td>\n",
              "      <td>16.10</td>\n",
              "      <td>76.5</td>\n",
              "      <td>2.89</td>\n",
              "      <td>4460</td>\n",
              "    </tr>\n",
              "    <tr>\n",
              "      <th>3</th>\n",
              "      <td>Angola</td>\n",
              "      <td>119.0</td>\n",
              "      <td>62.3</td>\n",
              "      <td>2.85</td>\n",
              "      <td>42.9</td>\n",
              "      <td>5900</td>\n",
              "      <td>22.40</td>\n",
              "      <td>60.1</td>\n",
              "      <td>6.16</td>\n",
              "      <td>3530</td>\n",
              "    </tr>\n",
              "    <tr>\n",
              "      <th>4</th>\n",
              "      <td>Antigua and Barbuda</td>\n",
              "      <td>10.3</td>\n",
              "      <td>45.5</td>\n",
              "      <td>6.03</td>\n",
              "      <td>58.9</td>\n",
              "      <td>19100</td>\n",
              "      <td>1.44</td>\n",
              "      <td>76.8</td>\n",
              "      <td>2.13</td>\n",
              "      <td>12200</td>\n",
              "    </tr>\n",
              "  </tbody>\n",
              "</table>\n",
              "</div>\n",
              "      <button class=\"colab-df-convert\" onclick=\"convertToInteractive('df-b96493ab-3ed2-4e8d-a602-c65fa13e96db')\"\n",
              "              title=\"Convert this dataframe to an interactive table.\"\n",
              "              style=\"display:none;\">\n",
              "        \n",
              "  <svg xmlns=\"http://www.w3.org/2000/svg\" height=\"24px\"viewBox=\"0 0 24 24\"\n",
              "       width=\"24px\">\n",
              "    <path d=\"M0 0h24v24H0V0z\" fill=\"none\"/>\n",
              "    <path d=\"M18.56 5.44l.94 2.06.94-2.06 2.06-.94-2.06-.94-.94-2.06-.94 2.06-2.06.94zm-11 1L8.5 8.5l.94-2.06 2.06-.94-2.06-.94L8.5 2.5l-.94 2.06-2.06.94zm10 10l.94 2.06.94-2.06 2.06-.94-2.06-.94-.94-2.06-.94 2.06-2.06.94z\"/><path d=\"M17.41 7.96l-1.37-1.37c-.4-.4-.92-.59-1.43-.59-.52 0-1.04.2-1.43.59L10.3 9.45l-7.72 7.72c-.78.78-.78 2.05 0 2.83L4 21.41c.39.39.9.59 1.41.59.51 0 1.02-.2 1.41-.59l7.78-7.78 2.81-2.81c.8-.78.8-2.07 0-2.86zM5.41 20L4 18.59l7.72-7.72 1.47 1.35L5.41 20z\"/>\n",
              "  </svg>\n",
              "      </button>\n",
              "      \n",
              "  <style>\n",
              "    .colab-df-container {\n",
              "      display:flex;\n",
              "      flex-wrap:wrap;\n",
              "      gap: 12px;\n",
              "    }\n",
              "\n",
              "    .colab-df-convert {\n",
              "      background-color: #E8F0FE;\n",
              "      border: none;\n",
              "      border-radius: 50%;\n",
              "      cursor: pointer;\n",
              "      display: none;\n",
              "      fill: #1967D2;\n",
              "      height: 32px;\n",
              "      padding: 0 0 0 0;\n",
              "      width: 32px;\n",
              "    }\n",
              "\n",
              "    .colab-df-convert:hover {\n",
              "      background-color: #E2EBFA;\n",
              "      box-shadow: 0px 1px 2px rgba(60, 64, 67, 0.3), 0px 1px 3px 1px rgba(60, 64, 67, 0.15);\n",
              "      fill: #174EA6;\n",
              "    }\n",
              "\n",
              "    [theme=dark] .colab-df-convert {\n",
              "      background-color: #3B4455;\n",
              "      fill: #D2E3FC;\n",
              "    }\n",
              "\n",
              "    [theme=dark] .colab-df-convert:hover {\n",
              "      background-color: #434B5C;\n",
              "      box-shadow: 0px 1px 3px 1px rgba(0, 0, 0, 0.15);\n",
              "      filter: drop-shadow(0px 1px 2px rgba(0, 0, 0, 0.3));\n",
              "      fill: #FFFFFF;\n",
              "    }\n",
              "  </style>\n",
              "\n",
              "      <script>\n",
              "        const buttonEl =\n",
              "          document.querySelector('#df-b96493ab-3ed2-4e8d-a602-c65fa13e96db button.colab-df-convert');\n",
              "        buttonEl.style.display =\n",
              "          google.colab.kernel.accessAllowed ? 'block' : 'none';\n",
              "\n",
              "        async function convertToInteractive(key) {\n",
              "          const element = document.querySelector('#df-b96493ab-3ed2-4e8d-a602-c65fa13e96db');\n",
              "          const dataTable =\n",
              "            await google.colab.kernel.invokeFunction('convertToInteractive',\n",
              "                                                     [key], {});\n",
              "          if (!dataTable) return;\n",
              "\n",
              "          const docLinkHtml = 'Like what you see? Visit the ' +\n",
              "            '<a target=\"_blank\" href=https://colab.research.google.com/notebooks/data_table.ipynb>data table notebook</a>'\n",
              "            + ' to learn more about interactive tables.';\n",
              "          element.innerHTML = '';\n",
              "          dataTable['output_type'] = 'display_data';\n",
              "          await google.colab.output.renderOutput(dataTable, element);\n",
              "          const docLink = document.createElement('div');\n",
              "          docLink.innerHTML = docLinkHtml;\n",
              "          element.appendChild(docLink);\n",
              "        }\n",
              "      </script>\n",
              "    </div>\n",
              "  </div>\n",
              "  "
            ]
          },
          "metadata": {},
          "execution_count": 4
        }
      ]
    },
    {
      "cell_type": "code",
      "source": [
        "df.columns"
      ],
      "metadata": {
        "colab": {
          "base_uri": "https://localhost:8080/"
        },
        "id": "Oj-k5XJNCNOr",
        "outputId": "59011283-2ff4-4254-fee3-ea853bbb16be"
      },
      "execution_count": 5,
      "outputs": [
        {
          "output_type": "execute_result",
          "data": {
            "text/plain": [
              "Index(['country', 'child_mort', 'exports', 'health', 'imports', 'income',\n",
              "       'inflation', 'life_expec', 'total_fer', 'gdpp'],\n",
              "      dtype='object')"
            ]
          },
          "metadata": {},
          "execution_count": 5
        }
      ]
    },
    {
      "cell_type": "code",
      "source": [
        "names = df[[\"country\"]]\n",
        "X = df.drop([\"country\"], axis = 1)"
      ],
      "metadata": {
        "id": "amzzWZ-G9SNe"
      },
      "execution_count": 6,
      "outputs": []
    },
    {
      "cell_type": "code",
      "source": [
        "scaler = StandardScaler().fit(X)\n",
        "X_scaled = scaler.transform(X)"
      ],
      "metadata": {
        "id": "PavsPgGU9Rrx"
      },
      "execution_count": 7,
      "outputs": []
    },
    {
      "cell_type": "markdown",
      "source": [
        "# 1.) Fit a kmeans Model with any Number of Clusters"
      ],
      "metadata": {
        "id": "YLn6XlFqMaCY"
      }
    },
    {
      "cell_type": "code",
      "source": [
        "kmeans = KMeans(n_clusters= 3, random_state=42).fit(X_scaled)"
      ],
      "metadata": {
        "id": "ntDMWRN-8yAi",
        "colab": {
          "base_uri": "https://localhost:8080/"
        },
        "outputId": "00382272-1c71-44bd-9cc5-3633e60224d0"
      },
      "execution_count": 9,
      "outputs": [
        {
          "output_type": "stream",
          "name": "stderr",
          "text": [
            "/usr/local/lib/python3.9/dist-packages/sklearn/cluster/_kmeans.py:870: FutureWarning: The default value of `n_init` will change from 10 to 'auto' in 1.4. Set the value of `n_init` explicitly to suppress the warning\n",
            "  warnings.warn(\n"
          ]
        }
      ]
    },
    {
      "cell_type": "markdown",
      "source": [
        "# 2.) Pick two features to visualize across"
      ],
      "metadata": {
        "id": "LkpVmNYRMtyq"
      }
    },
    {
      "cell_type": "code",
      "source": [
        "X.columns"
      ],
      "metadata": {
        "colab": {
          "base_uri": "https://localhost:8080/"
        },
        "id": "oTmfYVYrN53a",
        "outputId": "59539238-e87b-4de0-bc1a-3779271c2c3f"
      },
      "execution_count": 10,
      "outputs": [
        {
          "output_type": "execute_result",
          "data": {
            "text/plain": [
              "Index(['child_mort', 'exports', 'health', 'imports', 'income', 'inflation',\n",
              "       'life_expec', 'total_fer', 'gdpp'],\n",
              "      dtype='object')"
            ]
          },
          "metadata": {},
          "execution_count": 10
        }
      ]
    },
    {
      "cell_type": "code",
      "source": [
        "# CHANGE THESE BASED ON WHICH IS INTERESTING TO YOU\n",
        "x1_index = 0\n",
        "x2_index = 3\n",
        "\n",
        "\n",
        "plt.scatter(X_scaled[:, x1_index], X_scaled[:, x2_index], c=kmeans.labels_, cmap='viridis')\n",
        "plt.scatter(kmeans.cluster_centers_[:, x1_index], kmeans.cluster_centers_[:, x2_index], marker='o', color='black', s=100)\n",
        "\n",
        "plt.xlabel(X.columns[x1_index])\n",
        "plt.ylabel(X.columns[x2_index])\n",
        "plt.title('Scatter Plot of Customers')\n",
        "plt.legend([\"Group 1\", \"Center\", \"Group 2\"])\n",
        "plt.grid()\n",
        "plt.show()"
      ],
      "metadata": {
        "id": "GksDZxUsDbzM",
        "colab": {
          "base_uri": "https://localhost:8080/",
          "height": 296
        },
        "outputId": "3afd6b84-b12d-44e3-8ef9-d5cac06cec4f"
      },
      "execution_count": 11,
      "outputs": [
        {
          "output_type": "display_data",
          "data": {
            "text/plain": [
              "<Figure size 432x288 with 1 Axes>"
            ],
            "image/png": "[encoded data removed]"
          },
          "metadata": {
            "needs_background": "light"
          }
        }
      ]
    },
    {
      "cell_type": "markdown",
      "source": [
        "# 3.) Check a range of k-clusters and visualize to find the elbow. Test 30 different random starting places for the centroid means\n",
        " "
      ],
      "metadata": {
        "id": "827DR0zsOkNA"
      }
    },
    {
      "cell_type": "code",
      "source": [
        "WCSSs = []\n",
        "Ks = range(1,15)\n",
        "for k in Ks:\n",
        "  kmeans = KMeans(n_clusters = k, n_init = 30, init = 'random')\n",
        "  kmeans.fit(X_scaled)\n",
        "  WCSSs.append(kmeans.inertia_)"
      ],
      "metadata": {
        "id": "2_YuJa4IFKda"
      },
      "execution_count": 21,
      "outputs": []
    },
    {
      "cell_type": "code",
      "source": [
        "# Visualize the results\n",
        "fig, ax = plt.subplots()\n",
        "ax.plot(Ks, WCSSs, marker='o')\n",
        "ax.set_xticks(Ks)\n",
        "ax.set_xlabel('Number of clusters (K)')\n",
        "ax.set_ylabel('WCSS')\n",
        "ax.set_title('K-means clustering')\n",
        "plt.show()"
      ],
      "metadata": {
        "colab": {
          "base_uri": "https://localhost:8080/",
          "height": 295
        },
        "id": "WoNao3dZm_wj",
        "outputId": "24993f83-0eeb-405d-8552-0160ad30842a"
      },
      "execution_count": 22,
      "outputs": [
        {
          "output_type": "display_data",
          "data": {
            "text/plain": [
              "<Figure size 432x288 with 1 Axes>"
            ],
            "image/png": "[encoded data removed]"
          },
          "metadata": {
            "needs_background": "light"
          }
        }
      ]
    },
    {
      "cell_type": "markdown",
      "source": [
        "# 4.) Use the above work and economic critical thinking to choose a number of clusters. Explain why you chose the number of clusters and fit a model accordingly."
      ],
      "metadata": {
        "id": "aNEDRA7XPkMN"
      }
    },
    {
      "cell_type": "markdown",
      "source": [
        "I would choose k = 10, because after 10, the WCSS values start to level off."
      ],
      "metadata": {
        "id": "iJ5E2EWSoTTe"
      }
    },
    {
      "cell_type": "code",
      "source": [
        "kmeans = KMeans(n_clusters = 10, n_init = 30, init = 'random').fit(X_scaled)"
      ],
      "metadata": {
        "id": "o0TG8sABQake"
      },
      "execution_count": 23,
      "outputs": []
    },
    {
      "cell_type": "markdown",
      "source": [
        "# 5.) Create a list of the countries that are in each cluster. Write interesting things you notice. Hint : Use .predict(method)"
      ],
      "metadata": {
        "id": "Z6xfLRZIRfdl"
      }
    },
    {
      "cell_type": "code",
      "source": [
        "pred = kmeans.predict(X_scaled)\n",
        "pred = pd.DataFrame(pred, columns=['Pred'])"
      ],
      "metadata": {
        "id": "fGuVFuzxStqP"
      },
      "execution_count": 45,
      "outputs": []
    },
    {
      "cell_type": "code",
      "source": [
        "clusters = pd.concat([names, pred], axis = 1)\n",
        "clusters.head()"
      ],
      "metadata": {
        "colab": {
          "base_uri": "https://localhost:8080/",
          "height": 206
        },
        "id": "dB-qvg76yjw1",
        "outputId": "deb75aa5-59a8-4115-f634-6be5d4fe0b1f"
      },
      "execution_count": 46,
      "outputs": [
        {
          "output_type": "execute_result",
          "data": {
            "text/plain": [
              "               country  Pred\n",
              "0          Afghanistan     7\n",
              "1              Albania     1\n",
              "2              Algeria     6\n",
              "3               Angola     7\n",
              "4  Antigua and Barbuda     4"
            ],
            "text/html": [
              "\n",
              "  <div id=\"df-d3ec76b6-dc3f-490a-a984-8714e8a92b60\">\n",
              "    <div class=\"colab-df-container\">\n",
              "      <div>\n",
              "<style scoped>\n",
              "    .dataframe tbody tr th:only-of-type {\n",
              "        vertical-align: middle;\n",
              "    }\n",
              "\n",
              "    .dataframe tbody tr th {\n",
              "        vertical-align: top;\n",
              "    }\n",
              "\n",
              "    .dataframe thead th {\n",
              "        text-align: right;\n",
              "    }\n",
              "</style>\n",
              "<table border=\"1\" class=\"dataframe\">\n",
              "  <thead>\n",
              "    <tr style=\"text-align: right;\">\n",
              "      <th></th>\n",
              "      <th>country</th>\n",
              "      <th>Pred</th>\n",
              "    </tr>\n",
              "  </thead>\n",
              "  <tbody>\n",
              "    <tr>\n",
              "      <th>0</th>\n",
              "      <td>Afghanistan</td>\n",
              "      <td>7</td>\n",
              "    </tr>\n",
              "    <tr>\n",
              "      <th>1</th>\n",
              "      <td>Albania</td>\n",
              "      <td>1</td>\n",
              "    </tr>\n",
              "    <tr>\n",
              "      <th>2</th>\n",
              "      <td>Algeria</td>\n",
              "      <td>6</td>\n",
              "    </tr>\n",
              "    <tr>\n",
              "      <th>3</th>\n",
              "      <td>Angola</td>\n",
              "      <td>7</td>\n",
              "    </tr>\n",
              "    <tr>\n",
              "      <th>4</th>\n",
              "      <td>Antigua and Barbuda</td>\n",
              "      <td>4</td>\n",
              "    </tr>\n",
              "  </tbody>\n",
              "</table>\n",
              "</div>\n",
              "      <button class=\"colab-df-convert\" onclick=\"convertToInteractive('df-d3ec76b6-dc3f-490a-a984-8714e8a92b60')\"\n",
              "              title=\"Convert this dataframe to an interactive table.\"\n",
              "              style=\"display:none;\">\n",
              "        \n",
              "  <svg xmlns=\"http://www.w3.org/2000/svg\" height=\"24px\"viewBox=\"0 0 24 24\"\n",
              "       width=\"24px\">\n",
              "    <path d=\"M0 0h24v24H0V0z\" fill=\"none\"/>\n",
              "    <path d=\"M18.56 5.44l.94 2.06.94-2.06 2.06-.94-2.06-.94-.94-2.06-.94 2.06-2.06.94zm-11 1L8.5 8.5l.94-2.06 2.06-.94-2.06-.94L8.5 2.5l-.94 2.06-2.06.94zm10 10l.94 2.06.94-2.06 2.06-.94-2.06-.94-.94-2.06-.94 2.06-2.06.94z\"/><path d=\"M17.41 7.96l-1.37-1.37c-.4-.4-.92-.59-1.43-.59-.52 0-1.04.2-1.43.59L10.3 9.45l-7.72 7.72c-.78.78-.78 2.05 0 2.83L4 21.41c.39.39.9.59 1.41.59.51 0 1.02-.2 1.41-.59l7.78-7.78 2.81-2.81c.8-.78.8-2.07 0-2.86zM5.41 20L4 18.59l7.72-7.72 1.47 1.35L5.41 20z\"/>\n",
              "  </svg>\n",
              "      </button>\n",
              "      \n",
              "  <style>\n",
              "    .colab-df-container {\n",
              "      display:flex;\n",
              "      flex-wrap:wrap;\n",
              "      gap: 12px;\n",
              "    }\n",
              "\n",
              "    .colab-df-convert {\n",
              "      background-color: #E8F0FE;\n",
              "      border: none;\n",
              "      border-radius: 50%;\n",
              "      cursor: pointer;\n",
              "      display: none;\n",
              "      fill: #1967D2;\n",
              "      height: 32px;\n",
              "      padding: 0 0 0 0;\n",
              "      width: 32px;\n",
              "    }\n",
              "\n",
              "    .colab-df-convert:hover {\n",
              "      background-color: #E2EBFA;\n",
              "      box-shadow: 0px 1px 2px rgba(60, 64, 67, 0.3), 0px 1px 3px 1px rgba(60, 64, 67, 0.15);\n",
              "      fill: #174EA6;\n",
              "    }\n",
              "\n",
              "    [theme=dark] .colab-df-convert {\n",
              "      background-color: #3B4455;\n",
              "      fill: #D2E3FC;\n",
              "    }\n",
              "\n",
              "    [theme=dark] .colab-df-convert:hover {\n",
              "      background-color: #434B5C;\n",
              "      box-shadow: 0px 1px 3px 1px rgba(0, 0, 0, 0.15);\n",
              "      filter: drop-shadow(0px 1px 2px rgba(0, 0, 0, 0.3));\n",
              "      fill: #FFFFFF;\n",
              "    }\n",
              "  </style>\n",
              "\n",
              "      <script>\n",
              "        const buttonEl =\n",
              "          document.querySelector('#df-d3ec76b6-dc3f-490a-a984-8714e8a92b60 button.colab-df-convert');\n",
              "        buttonEl.style.display =\n",
              "          google.colab.kernel.accessAllowed ? 'block' : 'none';\n",
              "\n",
              "        async function convertToInteractive(key) {\n",
              "          const element = document.querySelector('#df-d3ec76b6-dc3f-490a-a984-8714e8a92b60');\n",
              "          const dataTable =\n",
              "            await google.colab.kernel.invokeFunction('convertToInteractive',\n",
              "                                                     [key], {});\n",
              "          if (!dataTable) return;\n",
              "\n",
              "          const docLinkHtml = 'Like what you see? Visit the ' +\n",
              "            '<a target=\"_blank\" href=https://colab.research.google.com/notebooks/data_table.ipynb>data table notebook</a>'\n",
              "            + ' to learn more about interactive tables.';\n",
              "          element.innerHTML = '';\n",
              "          dataTable['output_type'] = 'display_data';\n",
              "          await google.colab.output.renderOutput(dataTable, element);\n",
              "          const docLink = document.createElement('div');\n",
              "          docLink.innerHTML = docLinkHtml;\n",
              "          element.appendChild(docLink);\n",
              "        }\n",
              "      </script>\n",
              "    </div>\n",
              "  </div>\n",
              "  "
            ]
          },
          "metadata": {},
          "execution_count": 46
        }
      ]
    },
    {
      "cell_type": "code",
      "source": [
        "clusters['Pred'].max()"
      ],
      "metadata": {
        "colab": {
          "base_uri": "https://localhost:8080/"
        },
        "id": "6ycOaWzD1Ihy",
        "outputId": "0c72f753-a5a1-44e0-9dad-e13a48b5962a"
      },
      "execution_count": 53,
      "outputs": [
        {
          "output_type": "execute_result",
          "data": {
            "text/plain": [
              "9"
            ]
          },
          "metadata": {},
          "execution_count": 53
        }
      ]
    },
    {
      "cell_type": "code",
      "source": [
        "clusters['Pred'].min()"
      ],
      "metadata": {
        "colab": {
          "base_uri": "https://localhost:8080/"
        },
        "id": "j-qlqiw51y8f",
        "outputId": "3ae50405-7ac9-4e6e-a110-4d454d3ab4f5"
      },
      "execution_count": 54,
      "outputs": [
        {
          "output_type": "execute_result",
          "data": {
            "text/plain": [
              "0"
            ]
          },
          "metadata": {},
          "execution_count": 54
        }
      ]
    },
    {
      "cell_type": "code",
      "source": [
        "list(clusters[clusters['Pred'] == 0][\"country\"])"
      ],
      "metadata": {
        "colab": {
          "base_uri": "https://localhost:8080/"
        },
        "id": "7B_1v6Et1120",
        "outputId": "b15ec017-6c2e-439c-dc4e-42fe7ca9750f"
      },
      "execution_count": 57,
      "outputs": [
        {
          "output_type": "execute_result",
          "data": {
            "text/plain": [
              "['Australia',\n",
              " 'Austria',\n",
              " 'Belgium',\n",
              " 'Canada',\n",
              " 'Denmark',\n",
              " 'Finland',\n",
              " 'France',\n",
              " 'Germany',\n",
              " 'Greece',\n",
              " 'Iceland',\n",
              " 'Italy',\n",
              " 'Japan',\n",
              " 'Netherlands',\n",
              " 'New Zealand',\n",
              " 'Norway',\n",
              " 'Spain',\n",
              " 'Sweden',\n",
              " 'Switzerland',\n",
              " 'United Kingdom',\n",
              " 'United States']"
            ]
          },
          "metadata": {},
          "execution_count": 57
        }
      ]
    },
    {
      "cell_type": "code",
      "source": [
        "list(clusters[clusters['Pred'] == 1][\"country\"])"
      ],
      "metadata": {
        "colab": {
          "base_uri": "https://localhost:8080/"
        },
        "id": "BlyykJed2aMx",
        "outputId": "a11d6751-2a73-412a-d21f-936b8119faa7"
      },
      "execution_count": 58,
      "outputs": [
        {
          "output_type": "execute_result",
          "data": {
            "text/plain": [
              "['Albania',\n",
              " 'Bahamas',\n",
              " 'Barbados',\n",
              " 'Bosnia and Herzegovina',\n",
              " 'Brazil',\n",
              " 'Chile',\n",
              " 'Colombia',\n",
              " 'Costa Rica',\n",
              " 'Croatia',\n",
              " 'Cyprus',\n",
              " 'Ecuador',\n",
              " 'El Salvador',\n",
              " 'Georgia',\n",
              " 'Israel',\n",
              " 'Lebanon',\n",
              " 'Macedonia, FYR',\n",
              " 'Moldova',\n",
              " 'Montenegro',\n",
              " 'Poland',\n",
              " 'Portugal',\n",
              " 'Romania',\n",
              " 'Serbia',\n",
              " 'Slovenia',\n",
              " 'South Korea',\n",
              " 'Turkey',\n",
              " 'Ukraine',\n",
              " 'Uruguay']"
            ]
          },
          "metadata": {},
          "execution_count": 58
        }
      ]
    },
    {
      "cell_type": "code",
      "source": [
        "list(clusters[clusters['Pred'] == 2][\"country\"])"
      ],
      "metadata": {
        "colab": {
          "base_uri": "https://localhost:8080/"
        },
        "id": "Kq46LrnM2ckZ",
        "outputId": "bddc4deb-0900-412f-8919-ebc613f36264"
      },
      "execution_count": 59,
      "outputs": [
        {
          "output_type": "execute_result",
          "data": {
            "text/plain": [
              "['Ireland', 'Luxembourg', 'Malta', 'Singapore']"
            ]
          },
          "metadata": {},
          "execution_count": 59
        }
      ]
    },
    {
      "cell_type": "code",
      "source": [
        "list(clusters[clusters['Pred'] == 3][\"country\"])"
      ],
      "metadata": {
        "colab": {
          "base_uri": "https://localhost:8080/"
        },
        "id": "oFhnRTqN2exM",
        "outputId": "cbb55dc7-108f-4ea0-8f9b-fd6d09a1e387"
      },
      "execution_count": 60,
      "outputs": [
        {
          "output_type": "execute_result",
          "data": {
            "text/plain": [
              "['Comoros',\n",
              " 'Congo, Rep.',\n",
              " 'Eritrea',\n",
              " 'Gabon',\n",
              " 'Gambia',\n",
              " 'Ghana',\n",
              " 'Iraq',\n",
              " 'Kenya',\n",
              " 'Lao',\n",
              " 'Madagascar',\n",
              " 'Mauritania',\n",
              " 'Pakistan',\n",
              " 'Senegal',\n",
              " 'Sudan',\n",
              " 'Tanzania',\n",
              " 'Timor-Leste',\n",
              " 'Yemen']"
            ]
          },
          "metadata": {},
          "execution_count": 60
        }
      ]
    },
    {
      "cell_type": "code",
      "source": [
        "list(clusters[clusters['Pred'] == 4][\"country\"])"
      ],
      "metadata": {
        "colab": {
          "base_uri": "https://localhost:8080/"
        },
        "id": "lWr-uUCS2gDq",
        "outputId": "fb9955dd-cf05-4bb0-90fe-6ccf75111f0d"
      },
      "execution_count": 61,
      "outputs": [
        {
          "output_type": "execute_result",
          "data": {
            "text/plain": [
              "['Antigua and Barbuda',\n",
              " 'Bahrain',\n",
              " 'Belarus',\n",
              " 'Belize',\n",
              " 'Bhutan',\n",
              " 'Bulgaria',\n",
              " 'Cambodia',\n",
              " 'Czech Republic',\n",
              " 'Estonia',\n",
              " 'Fiji',\n",
              " 'Guyana',\n",
              " 'Hungary',\n",
              " 'Jordan',\n",
              " 'Kyrgyz Republic',\n",
              " 'Latvia',\n",
              " 'Libya',\n",
              " 'Lithuania',\n",
              " 'Malaysia',\n",
              " 'Maldives',\n",
              " 'Mauritius',\n",
              " 'Panama',\n",
              " 'Paraguay',\n",
              " 'Seychelles',\n",
              " 'Slovak Republic',\n",
              " 'Thailand',\n",
              " 'Tunisia',\n",
              " 'Turkmenistan',\n",
              " 'Vietnam']"
            ]
          },
          "metadata": {},
          "execution_count": 61
        }
      ]
    },
    {
      "cell_type": "code",
      "source": [
        "list(clusters[clusters['Pred'] == 5][\"country\"])"
      ],
      "metadata": {
        "colab": {
          "base_uri": "https://localhost:8080/"
        },
        "id": "pqpuFe_R2hle",
        "outputId": "141d4dae-8738-4a56-863a-3944fac6fce7"
      },
      "execution_count": 62,
      "outputs": [
        {
          "output_type": "execute_result",
          "data": {
            "text/plain": [
              "['Mongolia', 'Nigeria', 'Venezuela']"
            ]
          },
          "metadata": {},
          "execution_count": 62
        }
      ]
    },
    {
      "cell_type": "code",
      "source": [
        "list(clusters[clusters['Pred'] == 6][\"country\"])"
      ],
      "metadata": {
        "colab": {
          "base_uri": "https://localhost:8080/"
        },
        "id": "4jjA1bJM2kpY",
        "outputId": "9537bfa1-d8a0-4bb2-ce7e-3e585b8d3faa"
      },
      "execution_count": 63,
      "outputs": [
        {
          "output_type": "execute_result",
          "data": {
            "text/plain": [
              "['Algeria',\n",
              " 'Argentina',\n",
              " 'Armenia',\n",
              " 'Azerbaijan',\n",
              " 'Bangladesh',\n",
              " 'Bolivia',\n",
              " 'Cape Verde',\n",
              " 'China',\n",
              " 'Dominican Republic',\n",
              " 'Egypt',\n",
              " 'Grenada',\n",
              " 'Guatemala',\n",
              " 'India',\n",
              " 'Indonesia',\n",
              " 'Iran',\n",
              " 'Jamaica',\n",
              " 'Kazakhstan',\n",
              " 'Morocco',\n",
              " 'Myanmar',\n",
              " 'Nepal',\n",
              " 'Peru',\n",
              " 'Philippines',\n",
              " 'Russia',\n",
              " 'Samoa',\n",
              " 'Sri Lanka',\n",
              " 'St. Vincent and the Grenadines',\n",
              " 'Suriname',\n",
              " 'Tajikistan',\n",
              " 'Tonga',\n",
              " 'Uzbekistan',\n",
              " 'Vanuatu']"
            ]
          },
          "metadata": {},
          "execution_count": 63
        }
      ]
    },
    {
      "cell_type": "code",
      "source": [
        "list(clusters[clusters['Pred'] == 7][\"country\"])"
      ],
      "metadata": {
        "colab": {
          "base_uri": "https://localhost:8080/"
        },
        "id": "s9Dsg6AE2lvT",
        "outputId": "91488822-afc7-442f-9772-5f02137ae193"
      },
      "execution_count": 64,
      "outputs": [
        {
          "output_type": "execute_result",
          "data": {
            "text/plain": [
              "['Afghanistan',\n",
              " 'Angola',\n",
              " 'Benin',\n",
              " 'Burkina Faso',\n",
              " 'Cameroon',\n",
              " 'Central African Republic',\n",
              " 'Chad',\n",
              " 'Congo, Dem. Rep.',\n",
              " \"Cote d'Ivoire\",\n",
              " 'Equatorial Guinea',\n",
              " 'Guinea',\n",
              " 'Guinea-Bissau',\n",
              " 'Haiti',\n",
              " 'Malawi',\n",
              " 'Mali',\n",
              " 'Mozambique',\n",
              " 'Niger',\n",
              " 'Uganda',\n",
              " 'Zambia']"
            ]
          },
          "metadata": {},
          "execution_count": 64
        }
      ]
    },
    {
      "cell_type": "code",
      "source": [
        "list(clusters[clusters['Pred'] == 8][\"country\"])"
      ],
      "metadata": {
        "colab": {
          "base_uri": "https://localhost:8080/"
        },
        "id": "X5fvDmj32qC_",
        "outputId": "e9aaf9d1-279e-4ec9-9916-57ab24993872"
      },
      "execution_count": 65,
      "outputs": [
        {
          "output_type": "execute_result",
          "data": {
            "text/plain": [
              "['Botswana',\n",
              " 'Burundi',\n",
              " 'Kiribati',\n",
              " 'Lesotho',\n",
              " 'Liberia',\n",
              " 'Micronesia, Fed. Sts.',\n",
              " 'Namibia',\n",
              " 'Rwanda',\n",
              " 'Sierra Leone',\n",
              " 'Solomon Islands',\n",
              " 'South Africa',\n",
              " 'Togo']"
            ]
          },
          "metadata": {},
          "execution_count": 65
        }
      ]
    },
    {
      "cell_type": "code",
      "source": [
        "list(clusters[clusters['Pred'] == 9][\"country\"])"
      ],
      "metadata": {
        "colab": {
          "base_uri": "https://localhost:8080/"
        },
        "id": "66ffYB_82rKy",
        "outputId": "7c42db19-5ff9-4124-bfee-47c7e56df4dc"
      },
      "execution_count": 66,
      "outputs": [
        {
          "output_type": "execute_result",
          "data": {
            "text/plain": [
              "['Brunei', 'Kuwait', 'Oman', 'Qatar', 'Saudi Arabia', 'United Arab Emirates']"
            ]
          },
          "metadata": {},
          "execution_count": 66
        }
      ]
    },
    {
      "cell_type": "markdown",
      "source": [
        "I notice that countries in a cluster usually have something in common in the reality. For example, some countries are geographically close, such as Oman, Qatar, Saudi Arabia, United Arab Emirates in cluster whose pred is 9. Moreover, some countries in one cluster have similar economic level, for example, cluster whose pred is 0 and 2."
      ],
      "metadata": {
        "id": "j3AtOM-Clorz"
      }
    },
    {
      "cell_type": "markdown",
      "source": [
        "#6.) Create a table of Descriptive Statistics. Rows being the Cluster number and columns being all the features. Values being the mean of the centroid. Use the nonscaled X values for interprotation"
      ],
      "metadata": {
        "id": "nEmf0AxkTJc1"
      }
    },
    {
      "cell_type": "code",
      "source": [
        "df = pd.concat([X, pred], axis = 1)\n",
        "df.head()"
      ],
      "metadata": {
        "id": "ELmUB7bMTIJL",
        "colab": {
          "base_uri": "https://localhost:8080/",
          "height": 206
        },
        "outputId": "5aeca4f0-ac9c-419d-d274-ab9d0c650c8f"
      },
      "execution_count": 67,
      "outputs": [
        {
          "output_type": "execute_result",
          "data": {
            "text/plain": [
              "   child_mort  exports  health  imports  income  inflation  life_expec  \\\n",
              "0        90.2     10.0    7.58     44.9    1610       9.44        56.2   \n",
              "1        16.6     28.0    6.55     48.6    9930       4.49        76.3   \n",
              "2        27.3     38.4    4.17     31.4   12900      16.10        76.5   \n",
              "3       119.0     62.3    2.85     42.9    5900      22.40        60.1   \n",
              "4        10.3     45.5    6.03     58.9   19100       1.44        76.8   \n",
              "\n",
              "   total_fer   gdpp  Pred  \n",
              "0       5.82    553     7  \n",
              "1       1.65   4090     1  \n",
              "2       2.89   4460     6  \n",
              "3       6.16   3530     7  \n",
              "4       2.13  12200     4  "
            ],
            "text/html": [
              "\n",
              "  <div id=\"df-ff69ef5b-0673-4aab-8472-01388cc60f7f\">\n",
              "    <div class=\"colab-df-container\">\n",
              "      <div>\n",
              "<style scoped>\n",
              "    .dataframe tbody tr th:only-of-type {\n",
              "        vertical-align: middle;\n",
              "    }\n",
              "\n",
              "    .dataframe tbody tr th {\n",
              "        vertical-align: top;\n",
              "    }\n",
              "\n",
              "    .dataframe thead th {\n",
              "        text-align: right;\n",
              "    }\n",
              "</style>\n",
              "<table border=\"1\" class=\"dataframe\">\n",
              "  <thead>\n",
              "    <tr style=\"text-align: right;\">\n",
              "      <th></th>\n",
              "      <th>child_mort</th>\n",
              "      <th>exports</th>\n",
              "      <th>health</th>\n",
              "      <th>imports</th>\n",
              "      <th>income</th>\n",
              "      <th>inflation</th>\n",
              "      <th>life_expec</th>\n",
              "      <th>total_fer</th>\n",
              "      <th>gdpp</th>\n",
              "      <th>Pred</th>\n",
              "    </tr>\n",
              "  </thead>\n",
              "  <tbody>\n",
              "    <tr>\n",
              "      <th>0</th>\n",
              "      <td>90.2</td>\n",
              "      <td>10.0</td>\n",
              "      <td>7.58</td>\n",
              "      <td>44.9</td>\n",
              "      <td>1610</td>\n",
              "      <td>9.44</td>\n",
              "      <td>56.2</td>\n",
              "      <td>5.82</td>\n",
              "      <td>553</td>\n",
              "      <td>7</td>\n",
              "    </tr>\n",
              "    <tr>\n",
              "      <th>1</th>\n",
              "      <td>16.6</td>\n",
              "      <td>28.0</td>\n",
              "      <td>6.55</td>\n",
              "      <td>48.6</td>\n",
              "      <td>9930</td>\n",
              "      <td>4.49</td>\n",
              "      <td>76.3</td>\n",
              "      <td>1.65</td>\n",
              "      <td>4090</td>\n",
              "      <td>1</td>\n",
              "    </tr>\n",
              "    <tr>\n",
              "      <th>2</th>\n",
              "      <td>27.3</td>\n",
              "      <td>38.4</td>\n",
              "      <td>4.17</td>\n",
              "      <td>31.4</td>\n",
              "      <td>12900</td>\n",
              "      <td>16.10</td>\n",
              "      <td>76.5</td>\n",
              "      <td>2.89</td>\n",
              "      <td>4460</td>\n",
              "      <td>6</td>\n",
              "    </tr>\n",
              "    <tr>\n",
              "      <th>3</th>\n",
              "      <td>119.0</td>\n",
              "      <td>62.3</td>\n",
              "      <td>2.85</td>\n",
              "      <td>42.9</td>\n",
              "      <td>5900</td>\n",
              "      <td>22.40</td>\n",
              "      <td>60.1</td>\n",
              "      <td>6.16</td>\n",
              "      <td>3530</td>\n",
              "      <td>7</td>\n",
              "    </tr>\n",
              "    <tr>\n",
              "      <th>4</th>\n",
              "      <td>10.3</td>\n",
              "      <td>45.5</td>\n",
              "      <td>6.03</td>\n",
              "      <td>58.9</td>\n",
              "      <td>19100</td>\n",
              "      <td>1.44</td>\n",
              "      <td>76.8</td>\n",
              "      <td>2.13</td>\n",
              "      <td>12200</td>\n",
              "      <td>4</td>\n",
              "    </tr>\n",
              "  </tbody>\n",
              "</table>\n",
              "</div>\n",
              "      <button class=\"colab-df-convert\" onclick=\"convertToInteractive('df-ff69ef5b-0673-4aab-8472-01388cc60f7f')\"\n",
              "              title=\"Convert this dataframe to an interactive table.\"\n",
              "              style=\"display:none;\">\n",
              "        \n",
              "  <svg xmlns=\"http://www.w3.org/2000/svg\" height=\"24px\"viewBox=\"0 0 24 24\"\n",
              "       width=\"24px\">\n",
              "    <path d=\"M0 0h24v24H0V0z\" fill=\"none\"/>\n",
              "    <path d=\"M18.56 5.44l.94 2.06.94-2.06 2.06-.94-2.06-.94-.94-2.06-.94 2.06-2.06.94zm-11 1L8.5 8.5l.94-2.06 2.06-.94-2.06-.94L8.5 2.5l-.94 2.06-2.06.94zm10 10l.94 2.06.94-2.06 2.06-.94-2.06-.94-.94-2.06-.94 2.06-2.06.94z\"/><path d=\"M17.41 7.96l-1.37-1.37c-.4-.4-.92-.59-1.43-.59-.52 0-1.04.2-1.43.59L10.3 9.45l-7.72 7.72c-.78.78-.78 2.05 0 2.83L4 21.41c.39.39.9.59 1.41.59.51 0 1.02-.2 1.41-.59l7.78-7.78 2.81-2.81c.8-.78.8-2.07 0-2.86zM5.41 20L4 18.59l7.72-7.72 1.47 1.35L5.41 20z\"/>\n",
              "  </svg>\n",
              "      </button>\n",
              "      \n",
              "  <style>\n",
              "    .colab-df-container {\n",
              "      display:flex;\n",
              "      flex-wrap:wrap;\n",
              "      gap: 12px;\n",
              "    }\n",
              "\n",
              "    .colab-df-convert {\n",
              "      background-color: #E8F0FE;\n",
              "      border: none;\n",
              "      border-radius: 50%;\n",
              "      cursor: pointer;\n",
              "      display: none;\n",
              "      fill: #1967D2;\n",
              "      height: 32px;\n",
              "      padding: 0 0 0 0;\n",
              "      width: 32px;\n",
              "    }\n",
              "\n",
              "    .colab-df-convert:hover {\n",
              "      background-color: #E2EBFA;\n",
              "      box-shadow: 0px 1px 2px rgba(60, 64, 67, 0.3), 0px 1px 3px 1px rgba(60, 64, 67, 0.15);\n",
              "      fill: #174EA6;\n",
              "    }\n",
              "\n",
              "    [theme=dark] .colab-df-convert {\n",
              "      background-color: #3B4455;\n",
              "      fill: #D2E3FC;\n",
              "    }\n",
              "\n",
              "    [theme=dark] .colab-df-convert:hover {\n",
              "      background-color: #434B5C;\n",
              "      box-shadow: 0px 1px 3px 1px rgba(0, 0, 0, 0.15);\n",
              "      filter: drop-shadow(0px 1px 2px rgba(0, 0, 0, 0.3));\n",
              "      fill: #FFFFFF;\n",
              "    }\n",
              "  </style>\n",
              "\n",
              "      <script>\n",
              "        const buttonEl =\n",
              "          document.querySelector('#df-ff69ef5b-0673-4aab-8472-01388cc60f7f button.colab-df-convert');\n",
              "        buttonEl.style.display =\n",
              "          google.colab.kernel.accessAllowed ? 'block' : 'none';\n",
              "\n",
              "        async function convertToInteractive(key) {\n",
              "          const element = document.querySelector('#df-ff69ef5b-0673-4aab-8472-01388cc60f7f');\n",
              "          const dataTable =\n",
              "            await google.colab.kernel.invokeFunction('convertToInteractive',\n",
              "                                                     [key], {});\n",
              "          if (!dataTable) return;\n",
              "\n",
              "          const docLinkHtml = 'Like what you see? Visit the ' +\n",
              "            '<a target=\"_blank\" href=https://colab.research.google.com/notebooks/data_table.ipynb>data table notebook</a>'\n",
              "            + ' to learn more about interactive tables.';\n",
              "          element.innerHTML = '';\n",
              "          dataTable['output_type'] = 'display_data';\n",
              "          await google.colab.output.renderOutput(dataTable, element);\n",
              "          const docLink = document.createElement('div');\n",
              "          docLink.innerHTML = docLinkHtml;\n",
              "          element.appendChild(docLink);\n",
              "        }\n",
              "      </script>\n",
              "    </div>\n",
              "  </div>\n",
              "  "
            ]
          },
          "metadata": {},
          "execution_count": 67
        }
      ]
    },
    {
      "cell_type": "code",
      "source": [
        "df.groupby('Pred').mean()"
      ],
      "metadata": {
        "id": "HpjZMgC4Smz9",
        "colab": {
          "base_uri": "https://localhost:8080/",
          "height": 394
        },
        "outputId": "cfde0df9-2ffc-4747-daec-e20fb8e713cc"
      },
      "execution_count": 68,
      "outputs": [
        {
          "output_type": "execute_result",
          "data": {
            "text/plain": [
              "      child_mort     exports     health     imports        income  inflation  \\\n",
              "Pred                                                                           \n",
              "0       4.305000   38.445000  10.699500   36.145000  41180.000000   1.575500   \n",
              "1      11.322222   34.707407   8.293333   43.900000  16657.777778   4.113815   \n",
              "2       4.150000  157.750000   7.392500  139.125000  59450.000000   1.046000   \n",
              "3      70.000000   29.270000   4.961176   36.858824   4132.941176  12.997059   \n",
              "4      18.457143   63.007143   5.898929   65.575000  15371.071429   4.310464   \n",
              "5      57.733333   33.500000   5.140000   30.566667   9786.666667  63.033333   \n",
              "6      29.648387   27.628677   4.974516   34.973094   8964.193548   9.396484   \n",
              "7     117.252632   30.394737   5.777895   40.594737   3514.157895   9.300789   \n",
              "8      74.125000   28.543333  10.318333   61.341667   4019.500000   6.155833   \n",
              "9      11.050000   64.900000   3.000000   36.666667  71516.666667  13.363333   \n",
              "\n",
              "      life_expec  total_fer          gdpp  \n",
              "Pred                                       \n",
              "0      80.945000   1.759000  47140.000000  \n",
              "1      76.440741   1.757037  11788.148148  \n",
              "2      81.175000   1.547500  55350.000000  \n",
              "3      64.405882   4.714706   1880.294118  \n",
              "4      73.332143   2.161429   8038.428571  \n",
              "5      67.366667   3.650000   6160.000000  \n",
              "6      71.258065   2.610968   4164.709677  \n",
              "7      55.389474   5.648421   1714.157895  \n",
              "8      58.425000   4.147500   2303.166667  \n",
              "9      77.083333   2.308333  36283.333333  "
            ],
            "text/html": [
              "\n",
              "  <div id=\"df-cd5b3f01-984f-42d0-8840-8a05a8806fcc\">\n",
              "    <div class=\"colab-df-container\">\n",
              "      <div>\n",
              "<style scoped>\n",
              "    .dataframe tbody tr th:only-of-type {\n",
              "        vertical-align: middle;\n",
              "    }\n",
              "\n",
              "    .dataframe tbody tr th {\n",
              "        vertical-align: top;\n",
              "    }\n",
              "\n",
              "    .dataframe thead th {\n",
              "        text-align: right;\n",
              "    }\n",
              "</style>\n",
              "<table border=\"1\" class=\"dataframe\">\n",
              "  <thead>\n",
              "    <tr style=\"text-align: right;\">\n",
              "      <th></th>\n",
              "      <th>child_mort</th>\n",
              "      <th>exports</th>\n",
              "      <th>health</th>\n",
              "      <th>imports</th>\n",
              "      <th>income</th>\n",
              "      <th>inflation</th>\n",
              "      <th>life_expec</th>\n",
              "      <th>total_fer</th>\n",
              "      <th>gdpp</th>\n",
              "    </tr>\n",
              "    <tr>\n",
              "      <th>Pred</th>\n",
              "      <th></th>\n",
              "      <th></th>\n",
              "      <th></th>\n",
              "      <th></th>\n",
              "      <th></th>\n",
              "      <th></th>\n",
              "      <th></th>\n",
              "      <th></th>\n",
              "      <th></th>\n",
              "    </tr>\n",
              "  </thead>\n",
              "  <tbody>\n",
              "    <tr>\n",
              "      <th>0</th>\n",
              "      <td>4.305000</td>\n",
              "      <td>38.445000</td>\n",
              "      <td>10.699500</td>\n",
              "      <td>36.145000</td>\n",
              "      <td>41180.000000</td>\n",
              "      <td>1.575500</td>\n",
              "      <td>80.945000</td>\n",
              "      <td>1.759000</td>\n",
              "      <td>47140.000000</td>\n",
              "    </tr>\n",
              "    <tr>\n",
              "      <th>1</th>\n",
              "      <td>11.322222</td>\n",
              "      <td>34.707407</td>\n",
              "      <td>8.293333</td>\n",
              "      <td>43.900000</td>\n",
              "      <td>16657.777778</td>\n",
              "      <td>4.113815</td>\n",
              "      <td>76.440741</td>\n",
              "      <td>1.757037</td>\n",
              "      <td>11788.148148</td>\n",
              "    </tr>\n",
              "    <tr>\n",
              "      <th>2</th>\n",
              "      <td>4.150000</td>\n",
              "      <td>157.750000</td>\n",
              "      <td>7.392500</td>\n",
              "      <td>139.125000</td>\n",
              "      <td>59450.000000</td>\n",
              "      <td>1.046000</td>\n",
              "      <td>81.175000</td>\n",
              "      <td>1.547500</td>\n",
              "      <td>55350.000000</td>\n",
              "    </tr>\n",
              "    <tr>\n",
              "      <th>3</th>\n",
              "      <td>70.000000</td>\n",
              "      <td>29.270000</td>\n",
              "      <td>4.961176</td>\n",
              "      <td>36.858824</td>\n",
              "      <td>4132.941176</td>\n",
              "      <td>12.997059</td>\n",
              "      <td>64.405882</td>\n",
              "      <td>4.714706</td>\n",
              "      <td>1880.294118</td>\n",
              "    </tr>\n",
              "    <tr>\n",
              "      <th>4</th>\n",
              "      <td>18.457143</td>\n",
              "      <td>63.007143</td>\n",
              "      <td>5.898929</td>\n",
              "      <td>65.575000</td>\n",
              "      <td>15371.071429</td>\n",
              "      <td>4.310464</td>\n",
              "      <td>73.332143</td>\n",
              "      <td>2.161429</td>\n",
              "      <td>8038.428571</td>\n",
              "    </tr>\n",
              "    <tr>\n",
              "      <th>5</th>\n",
              "      <td>57.733333</td>\n",
              "      <td>33.500000</td>\n",
              "      <td>5.140000</td>\n",
              "      <td>30.566667</td>\n",
              "      <td>9786.666667</td>\n",
              "      <td>63.033333</td>\n",
              "      <td>67.366667</td>\n",
              "      <td>3.650000</td>\n",
              "      <td>6160.000000</td>\n",
              "    </tr>\n",
              "    <tr>\n",
              "      <th>6</th>\n",
              "      <td>29.648387</td>\n",
              "      <td>27.628677</td>\n",
              "      <td>4.974516</td>\n",
              "      <td>34.973094</td>\n",
              "      <td>8964.193548</td>\n",
              "      <td>9.396484</td>\n",
              "      <td>71.258065</td>\n",
              "      <td>2.610968</td>\n",
              "      <td>4164.709677</td>\n",
              "    </tr>\n",
              "    <tr>\n",
              "      <th>7</th>\n",
              "      <td>117.252632</td>\n",
              "      <td>30.394737</td>\n",
              "      <td>5.777895</td>\n",
              "      <td>40.594737</td>\n",
              "      <td>3514.157895</td>\n",
              "      <td>9.300789</td>\n",
              "      <td>55.389474</td>\n",
              "      <td>5.648421</td>\n",
              "      <td>1714.157895</td>\n",
              "    </tr>\n",
              "    <tr>\n",
              "      <th>8</th>\n",
              "      <td>74.125000</td>\n",
              "      <td>28.543333</td>\n",
              "      <td>10.318333</td>\n",
              "      <td>61.341667</td>\n",
              "      <td>4019.500000</td>\n",
              "      <td>6.155833</td>\n",
              "      <td>58.425000</td>\n",
              "      <td>4.147500</td>\n",
              "      <td>2303.166667</td>\n",
              "    </tr>\n",
              "    <tr>\n",
              "      <th>9</th>\n",
              "      <td>11.050000</td>\n",
              "      <td>64.900000</td>\n",
              "      <td>3.000000</td>\n",
              "      <td>36.666667</td>\n",
              "      <td>71516.666667</td>\n",
              "      <td>13.363333</td>\n",
              "      <td>77.083333</td>\n",
              "      <td>2.308333</td>\n",
              "      <td>36283.333333</td>\n",
              "    </tr>\n",
              "  </tbody>\n",
              "</table>\n",
              "</div>\n",
              "      <button class=\"colab-df-convert\" onclick=\"convertToInteractive('df-cd5b3f01-984f-42d0-8840-8a05a8806fcc')\"\n",
              "              title=\"Convert this dataframe to an interactive table.\"\n",
              "              style=\"display:none;\">\n",
              "        \n",
              "  <svg xmlns=\"http://www.w3.org/2000/svg\" height=\"24px\"viewBox=\"0 0 24 24\"\n",
              "       width=\"24px\">\n",
              "    <path d=\"M0 0h24v24H0V0z\" fill=\"none\"/>\n",
              "    <path d=\"M18.56 5.44l.94 2.06.94-2.06 2.06-.94-2.06-.94-.94-2.06-.94 2.06-2.06.94zm-11 1L8.5 8.5l.94-2.06 2.06-.94-2.06-.94L8.5 2.5l-.94 2.06-2.06.94zm10 10l.94 2.06.94-2.06 2.06-.94-2.06-.94-.94-2.06-.94 2.06-2.06.94z\"/><path d=\"M17.41 7.96l-1.37-1.37c-.4-.4-.92-.59-1.43-.59-.52 0-1.04.2-1.43.59L10.3 9.45l-7.72 7.72c-.78.78-.78 2.05 0 2.83L4 21.41c.39.39.9.59 1.41.59.51 0 1.02-.2 1.41-.59l7.78-7.78 2.81-2.81c.8-.78.8-2.07 0-2.86zM5.41 20L4 18.59l7.72-7.72 1.47 1.35L5.41 20z\"/>\n",
              "  </svg>\n",
              "      </button>\n",
              "      \n",
              "  <style>\n",
              "    .colab-df-container {\n",
              "      display:flex;\n",
              "      flex-wrap:wrap;\n",
              "      gap: 12px;\n",
              "    }\n",
              "\n",
              "    .colab-df-convert {\n",
              "      background-color: #E8F0FE;\n",
              "      border: none;\n",
              "      border-radius: 50%;\n",
              "      cursor: pointer;\n",
              "      display: none;\n",
              "      fill: #1967D2;\n",
              "      height: 32px;\n",
              "      padding: 0 0 0 0;\n",
              "      width: 32px;\n",
              "    }\n",
              "\n",
              "    .colab-df-convert:hover {\n",
              "      background-color: #E2EBFA;\n",
              "      box-shadow: 0px 1px 2px rgba(60, 64, 67, 0.3), 0px 1px 3px 1px rgba(60, 64, 67, 0.15);\n",
              "      fill: #174EA6;\n",
              "    }\n",
              "\n",
              "    [theme=dark] .colab-df-convert {\n",
              "      background-color: #3B4455;\n",
              "      fill: #D2E3FC;\n",
              "    }\n",
              "\n",
              "    [theme=dark] .colab-df-convert:hover {\n",
              "      background-color: #434B5C;\n",
              "      box-shadow: 0px 1px 3px 1px rgba(0, 0, 0, 0.15);\n",
              "      filter: drop-shadow(0px 1px 2px rgba(0, 0, 0, 0.3));\n",
              "      fill: #FFFFFF;\n",
              "    }\n",
              "  </style>\n",
              "\n",
              "      <script>\n",
              "        const buttonEl =\n",
              "          document.querySelector('#df-cd5b3f01-984f-42d0-8840-8a05a8806fcc button.colab-df-convert');\n",
              "        buttonEl.style.display =\n",
              "          google.colab.kernel.accessAllowed ? 'block' : 'none';\n",
              "\n",
              "        async function convertToInteractive(key) {\n",
              "          const element = document.querySelector('#df-cd5b3f01-984f-42d0-8840-8a05a8806fcc');\n",
              "          const dataTable =\n",
              "            await google.colab.kernel.invokeFunction('convertToInteractive',\n",
              "                                                     [key], {});\n",
              "          if (!dataTable) return;\n",
              "\n",
              "          const docLinkHtml = 'Like what you see? Visit the ' +\n",
              "            '<a target=\"_blank\" href=https://colab.research.google.com/notebooks/data_table.ipynb>data table notebook</a>'\n",
              "            + ' to learn more about interactive tables.';\n",
              "          element.innerHTML = '';\n",
              "          dataTable['output_type'] = 'display_data';\n",
              "          await google.colab.output.renderOutput(dataTable, element);\n",
              "          const docLink = document.createElement('div');\n",
              "          docLink.innerHTML = docLinkHtml;\n",
              "          element.appendChild(docLink);\n",
              "        }\n",
              "      </script>\n",
              "    </div>\n",
              "  </div>\n",
              "  "
            ]
          },
          "metadata": {},
          "execution_count": 68
        }
      ]
    },
    {
      "cell_type": "markdown",
      "source": [
        "# Q7.) Write an observation about the descriptive statistics."
      ],
      "metadata": {
        "id": "x_rQZjMrUKY8"
      }
    },
    {
      "cell_type": "markdown",
      "source": [
        "(1) Countries in cluster 0 and 2 enjoy the highest level of gdpp and income, however their child_mort and total_fer is also the lowest among the 9 cluster. On contrary, clusters at low income level have high child_mort and total_fer;\n",
        "\n",
        "(2)The relationship between exports, health and imports and gdpp is quite positive;\n",
        "\n",
        "(3)Comparatively, the relationship between inflation and gdpp is not quite obvious."
      ],
      "metadata": {
        "id": "axdt_X2imc4g"
      }
    }
  ]
}